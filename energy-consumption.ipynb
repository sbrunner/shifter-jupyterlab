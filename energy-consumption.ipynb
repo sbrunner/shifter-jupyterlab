{
 "cells": [
  {
   "cell_type": "code",
   "execution_count": null,
   "id": "2983552b-de1b-4b65-aa54-a408825884e9",
   "metadata": {},
   "outputs": [],
   "source": [
    "# https://www.bp.com/en/global/corporate/energy-economics/statistical-review-of-world-energy.html\n",
    "\n",
    "from shifter_pandas.bp import UNITS_ENERGY, BPDatasource\n",
    "\n",
    "shifter_ds = BPDatasource(\"data/bp-stats-review-2021-all-data.xlsx\")"
   ]
  },
  {
   "cell_type": "code",
   "execution_count": null,
   "id": "f3817328-a1ef-4a88-95fb-1606ea26dfc0",
   "metadata": {},
   "outputs": [],
   "source": [
    "types_filter = []\n",
    "for type_ in shifter_ds.metadata():\n",
    "    if type_[\"supported\"]:\n",
    "        values_split = type_[\"label\"].split(\" \")\n",
    "        # if \"Generation\" in values_split:\n",
    "        #     types_filter.append(type_[\"label\"])\n",
    "        if \"Consumption\" in values_split:\n",
    "            types_filter.append(type_[\"label\"])\n",
    "types_filter = [\n",
    "    e\n",
    "    for e in types_filter\n",
    "    if e\n",
    "    not in (\n",
    "        \"Primary Energy Consumption\",\n",
    "        \"Renewables Consumption\",\n",
    "        \"Total Liquids - Consumption\",\n",
    "    )\n",
    "]\n",
    "types_filter"
   ]
  },
  {
   "cell_type": "code",
   "execution_count": null,
   "id": "0e67b678-0dbe-4241-8038-f027c15886e5",
   "metadata": {},
   "outputs": [],
   "source": [
    "df = shifter_ds.datasource(\n",
    "    units_filter=UNITS_ENERGY,\n",
    "    regions_filter=[\"Total World\", \"Switzerland\"],\n",
    "    types_filter=types_filter,\n",
    ")\n",
    "df"
   ]
  },
  {
   "cell_type": "code",
   "execution_count": null,
   "id": "06c1ff91-7950-45d4-ab8b-744a7ca08630",
   "metadata": {},
   "outputs": [],
   "source": [
    "import plotly\n",
    "import plotly.express as px\n",
    "\n",
    "for region, code in ((\"Total World\", \"world\"), (\"Switzerland\", \"swiss\")):\n",
    "    fig = px.area(df.query(f\"Region == '{region}'\"), x=\"Year\", y=\"Value\", color=\"TypeUnit\")\n",
    "    fig.update_layout(xaxis={\"rangeslider\": {\"visible\": True}})\n",
    "\n",
    "    plotly.offline.plot(\n",
    "        fig,\n",
    "        filename=f\"energy-consumption-{code}.html\",\n",
    "        auto_open=False,\n",
    "        include_plotlyjs=\"cdn\",\n",
    "    )\n",
    "\n",
    "fig.show()"
   ]
  },
  {
   "cell_type": "code",
   "execution_count": null,
   "id": "694d2d01-0c73-4c14-aeb0-3cb7633b47bc",
   "metadata": {},
   "outputs": [],
   "source": [
    "import plotly\n",
    "import plotly.express as px\n",
    "\n",
    "for region, code in ((\"Total World\", \"world\"), (\"Switzerland\", \"swiss\")):\n",
    "    fig = px.area(\n",
    "        df.query(f\"Region == '{region}'\"),\n",
    "        x=\"Year\",\n",
    "        y=\"Value\",\n",
    "        color=\"TypeUnit\",\n",
    "        groupnorm=\"fraction\",\n",
    "    )\n",
    "    fig.update_layout(xaxis={\"rangeslider\": {\"visible\": True}})\n",
    "\n",
    "    plotly.offline.plot(\n",
    "        fig,\n",
    "        filename=f\"energy-consumption-fraction-{code}.html\",\n",
    "        auto_open=False,\n",
    "        include_plotlyjs=\"cdn\",\n",
    "    )\n",
    "fig.show()"
   ]
  }
 ],
 "metadata": {
  "kernelspec": {
   "display_name": "Python 3 (ipykernel)",
   "language": "python",
   "name": "python3"
  },
  "language_info": {
   "codemirror_mode": {
    "name": "ipython",
    "version": 3
   },
   "file_extension": ".py",
   "mimetype": "text/x-python",
   "name": "python",
   "nbconvert_exporter": "python",
   "pygments_lexer": "ipython3"
  },
  "widgets": {
   "application/vnd.jupyter.widget-state+json": {
    "state": {},
    "version_major": 2,
    "version_minor": 0
   }
  }
 },
 "nbformat": 4,
 "nbformat_minor": 5
}
