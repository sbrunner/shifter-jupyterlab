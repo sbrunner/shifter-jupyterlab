{
 "cells": [
  {
   "cell_type": "code",
   "execution_count": null,
   "id": "ce3b7a19-ed4c-4c53-8e48-5736991ce889",
   "metadata": {},
   "outputs": [],
   "source": [
    "# https://data.worldbank.org/indicator/NY.GDP.MKTP.KD\n",
    "from shifter_pandas.worldbank import WorldbankDatasource\n",
    "\n",
    "shifter_ds = WorldbankDatasource(\"data/API_NY.GDP.MKTP.KD_DS2_en_csv_v2_3630701.zip\")\n",
    "\n",
    "df_pib = shifter_ds.datasource(wikidata_name=True)\n",
    "df_pib.rename(columns={\"Value\": \"GDP\", \"CountryName\": \"Region\"}, inplace=True)\n",
    "df_pib"
   ]
  },
  {
   "cell_type": "code",
   "execution_count": null,
   "id": "be2edd76-4ce2-4c57-a777-4914c3b99117",
   "metadata": {},
   "outputs": [],
   "source": [
    "df_pib = df_pib.query(\"WikidataName in ['world', 'Switzerland']\")\n",
    "df_pib"
   ]
  },
  {
   "cell_type": "code",
   "execution_count": null,
   "id": "db0af0b7-5013-478b-8779-60a21b1a74ea",
   "metadata": {},
   "outputs": [],
   "source": [
    "import plotly.express as px\n",
    "\n",
    "fig = px.line(df_pib, x=\"Year\", y=\"GDP\", width=800, height=800, color=\"WikidataName\")\n",
    "fig.update_layout(\n",
    "    yaxis_type=\"log\",\n",
    "    xaxis={\n",
    "        \"rangeslider\": {\"visible\": True},\n",
    "    },\n",
    ")\n",
    "fig.show()"
   ]
  },
  {
   "cell_type": "code",
   "execution_count": null,
   "id": "2983552b-de1b-4b65-aa54-a408825884e9",
   "metadata": {},
   "outputs": [],
   "source": [
    "# https://www.bp.com/en/global/corporate/energy-economics/statistical-review-of-world-energy.html\n",
    "\n",
    "from shifter_pandas.bp import UNITS_ENERGY, BPDatasource\n",
    "\n",
    "shifter_ds = BPDatasource(\"data/bp-stats-review-2021-all-data.xlsx\")"
   ]
  },
  {
   "cell_type": "code",
   "execution_count": null,
   "id": "0e67b678-0dbe-4241-8038-f027c15886e5",
   "metadata": {},
   "outputs": [],
   "source": [
    "df = shifter_ds.datasource(\n",
    "    regions_filter=[\"Total World\", \"Switzerland\"],\n",
    "    types_filter=[\n",
    "        \"Primary Energy Consumption\",\n",
    "        \"CO2 From Flaring\",\n",
    "        \"CO2 Excluding Flaring\",\n",
    "    ],\n",
    "    wikidata_name=True,\n",
    ")\n",
    "df"
   ]
  },
  {
   "cell_type": "code",
   "execution_count": null,
   "id": "8d05152c-7d75-4673-ac4e-37b6fbb58794",
   "metadata": {},
   "outputs": [],
   "source": [
    "import plotly.express as px\n",
    "\n",
    "df[\"TypeUnitRegion\"] = df[\"TypeUnit\"] + \"-\" + df[\"WikidataName\"]\n",
    "fig = px.line(df, x=\"Year\", y=\"Value\", color=\"TypeUnitRegion\", width=800, height=800)\n",
    "fig.update_layout(\n",
    "    yaxis_type=\"log\",\n",
    "    xaxis={\n",
    "        \"rangeslider\": {\"visible\": True},\n",
    "    },\n",
    ")\n",
    "fig.show()"
   ]
  },
  {
   "cell_type": "code",
   "execution_count": null,
   "id": "d4232c21-d24b-41b9-b561-5f52e7f5b471",
   "metadata": {},
   "outputs": [],
   "source": [
    "df_co2 = (\n",
    "    df.query(\"Type in ['CO2 From Flaring', 'CO2 Excluding Flaring']\")\n",
    "    .groupby([\"Year\", \"WikidataName\"])\n",
    "    .sum()\n",
    "    .reset_index()\n",
    ")\n",
    "df_co2.rename(columns={\"Value\": \"CO2\"}, inplace=True)\n",
    "df_co2"
   ]
  },
  {
   "cell_type": "code",
   "execution_count": null,
   "id": "8116e283-5341-406c-9d40-b21f86fa78fa",
   "metadata": {},
   "outputs": [],
   "source": [
    "import plotly.express as px\n",
    "\n",
    "fig = px.line(df_co2, x=\"Year\", y=\"CO2\", width=800, height=800, color=\"WikidataName\")\n",
    "fig.update_layout(\n",
    "    yaxis_type=\"log\",\n",
    "    xaxis={\"rangeslider\": {\"visible\": True}},\n",
    ")\n",
    "fig.show()"
   ]
  },
  {
   "cell_type": "code",
   "execution_count": null,
   "id": "f22ee737-9099-4e6a-b706-98ec11789c6c",
   "metadata": {},
   "outputs": [],
   "source": [
    "import pandas as pd\n",
    "\n",
    "df_co2_pib = pd.merge(\n",
    "    df_co2,\n",
    "    df_pib,\n",
    "    how=\"inner\",\n",
    "    on=[\"Year\", \"WikidataName\"],\n",
    ")\n",
    "df_co2_pib\n",
    "df_pib"
   ]
  },
  {
   "cell_type": "code",
   "execution_count": null,
   "id": "e7382f04-c2c5-4a1a-a727-ce02d682a86d",
   "metadata": {},
   "outputs": [],
   "source": [
    "import plotly.express as px\n",
    "\n",
    "fig = px.line(\n",
    "    df_co2_pib,\n",
    "    x=\"CO2\",\n",
    "    y=\"GDP\",\n",
    "    width=800,\n",
    "    height=800,\n",
    "    color=\"WikidataName\",\n",
    "    hover_data=[\"CO2\", \"GDP\", \"Year\"],\n",
    "    markers=True,\n",
    ")\n",
    "fig.show()"
   ]
  },
  {
   "cell_type": "code",
   "execution_count": null,
   "id": "f6f0de9d-3e13-47ce-86d3-c6fb60a5de4d",
   "metadata": {},
   "outputs": [],
   "source": [
    "df_e_pib = pd.merge(\n",
    "    df.query('Type == \"Primary Energy Consumption\"'),\n",
    "    df_pib,\n",
    "    how=\"inner\",\n",
    "    on=[\"Year\", \"WikidataName\"],\n",
    ")\n",
    "df_e_pib.rename(columns={\"Value\": \"PrimaryEnergyConsumption\"}, inplace=True)\n",
    "df_e_pib"
   ]
  },
  {
   "cell_type": "code",
   "execution_count": null,
   "id": "4f027571-fb61-402d-ab3f-f84d06aa49dd",
   "metadata": {},
   "outputs": [],
   "source": [
    "import plotly.express as px\n",
    "\n",
    "fig = px.scatter(\n",
    "    df_e_pib,\n",
    "    x=\"PrimaryEnergyConsumption\",\n",
    "    y=\"GDP\",\n",
    "    width=800,\n",
    "    height=800,\n",
    "    trendline=\"lowess\",\n",
    "    color=\"WikidataName\",\n",
    "    hover_data=[\"PrimaryEnergyConsumption\", \"GDP\", \"Year\"],\n",
    ")\n",
    "fig.show()"
   ]
  },
  {
   "cell_type": "code",
   "execution_count": null,
   "id": "e4554fa8-d29c-490a-be2c-56ae29a2f87a",
   "metadata": {},
   "outputs": [],
   "source": [
    "df_co2_pib2 = df_co2_pib.assign(CO2_P_PIB=df_co2_pib.CO2 / df_co2_pib.GDP)\n",
    "df_co2_pib2"
   ]
  },
  {
   "cell_type": "code",
   "execution_count": null,
   "id": "da736ed7-b199-4a47-be78-cf5b202a6381",
   "metadata": {},
   "outputs": [],
   "source": [
    "import plotly.express as px\n",
    "\n",
    "fig = px.line(\n",
    "    df_co2_pib2,\n",
    "    x=\"Year\",\n",
    "    y=\"CO2_P_PIB\",\n",
    "    width=800,\n",
    "    height=800,\n",
    "    title=\"Efficacité\",\n",
    "    color=\"WikidataName\",\n",
    ")\n",
    "fig.show()"
   ]
  },
  {
   "cell_type": "code",
   "execution_count": null,
   "id": "0a185b6c-062b-4344-aba7-affb2919bbb1",
   "metadata": {},
   "outputs": [],
   "source": [
    "for col in [\"Region\", \"CountryCode\", \"IndicatorName\", \"IndicatorCode\"]:\n",
    "    if col in df_co2_pib:\n",
    "        del df_co2_pib[col]\n",
    "df_co2_pib"
   ]
  },
  {
   "cell_type": "code",
   "execution_count": null,
   "id": "73d3e2cc-91e9-46b9-aa7e-dc4116621ab7",
   "metadata": {},
   "outputs": [],
   "source": [
    "for col in [\"Region\", \"CountryCode\", \"IndicatorName\", \"IndicatorCode\"]:\n",
    "    if col in df_co2_pib:\n",
    "        del df_co2_pib[col]\n",
    "df_co2_pib"
   ]
  },
  {
   "cell_type": "code",
   "execution_count": null,
   "id": "f71160fc-9345-423a-9fa4-6765d697ae17",
   "metadata": {},
   "outputs": [],
   "source": [
    "import plotly.express as px\n",
    "\n",
    "fig = px.scatter(\n",
    "    df_e_pib.query(\"WikidataName == 'world'\"),\n",
    "    x=\"PrimaryEnergyConsumption\",\n",
    "    y=\"GDP\",\n",
    "    trendline=\"ols\",\n",
    "    hover_data=[\"PrimaryEnergyConsumption\", \"GDP\", \"Year\"],\n",
    ")\n",
    "fig.show()"
   ]
  },
  {
   "cell_type": "code",
   "execution_count": null,
   "id": "d7220d73-1411-41e9-a4ad-1016488d441c",
   "metadata": {},
   "outputs": [],
   "source": [
    "import plotly.express as px\n",
    "\n",
    "fig = px.scatter(\n",
    "    df_co2_pib.query(\"WikidataName == 'world'\"),\n",
    "    x=\"CO2\",\n",
    "    y=\"GDP\",\n",
    "    trendline=\"ols\",\n",
    "    hover_data=[\"CO2\", \"GDP\", \"Year\"],\n",
    ")\n",
    "fig.show()"
   ]
  },
  {
   "cell_type": "code",
   "execution_count": null,
   "id": "11b21d33-f3af-41a0-b488-1a9580fc6260",
   "metadata": {},
   "outputs": [],
   "source": [
    "# Save\n",
    "import plotly\n",
    "\n",
    "# Data\n",
    "df_co2_pib.to_pickle(\"gdp_co2_world.px\", protocol=4)\n",
    "\n",
    "# HTML file\n",
    "plotly.offline.plot(fig, filename=\"gdp_co2_world.html\", auto_open=False, include_plotlyjs=\"cdn\")"
   ]
  }
 ],
 "metadata": {
  "kernelspec": {
   "display_name": "Python 3 (ipykernel)",
   "language": "python",
   "name": "python3"
  },
  "language_info": {
   "codemirror_mode": {
    "name": "ipython",
    "version": 3
   },
   "file_extension": ".py",
   "mimetype": "text/x-python",
   "name": "python",
   "nbconvert_exporter": "python",
   "pygments_lexer": "ipython3"
  },
  "widgets": {
   "application/vnd.jupyter.widget-state+json": {
    "state": {},
    "version_major": 2,
    "version_minor": 0
   }
  }
 },
 "nbformat": 4,
 "nbformat_minor": 5
}
