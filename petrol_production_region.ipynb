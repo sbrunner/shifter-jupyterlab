{
 "cells": [
  {
   "cell_type": "code",
   "execution_count": null,
   "id": "d85d3744-9a93-463e-aa01-7a4420cd4fdf",
   "metadata": {},
   "outputs": [],
   "source": [
    "# https://www.bp.com/en/global/corporate/energy-economics/statistical-review-of-world-energy.html\n",
    "\n",
    "from shifter_pandas.bp import BPDatasource\n",
    "\n",
    "shifter_ds = BPDatasource(\"data/bp-stats-review-2021-all-data.xlsx\")"
   ]
  },
  {
   "cell_type": "code",
   "execution_count": null,
   "id": "93810f4b-179a-4f3b-9c5f-2bd4e28e2bce",
   "metadata": {},
   "outputs": [],
   "source": [
    "df = shifter_ds.datasource(\n",
    "    types_filter=[\"Oil Production - Barrels\"],\n",
    ")\n",
    "df"
   ]
  },
  {
   "cell_type": "code",
   "execution_count": null,
   "id": "fa75725f-dab1-4737-9aab-efd43f050ea2",
   "metadata": {},
   "outputs": [],
   "source": [
    "import dash_core_components as dcc\n",
    "import dash_html_components as html\n",
    "import plotly.express as px\n",
    "from dash.dependencies import Input, Output\n",
    "from jupyter_dash import JupyterDash\n",
    "\n",
    "# Build App\n",
    "app = JupyterDash(\"Oil Production - Barrels\")\n",
    "app.layout = html.Div(\n",
    "    [\n",
    "        html.Label(\n",
    "            [\n",
    "                \"Region\",\n",
    "                dcc.Dropdown(\n",
    "                    id=\"dropdown\",\n",
    "                    clearable=False,\n",
    "                    value=\"Total World\",\n",
    "                    options=[{\"label\": c, \"value\": c} for c in set(df[\"Region\"])],\n",
    "                ),\n",
    "            ]\n",
    "        ),\n",
    "        dcc.Graph(id=\"graph\"),\n",
    "    ]\n",
    ")\n",
    "\n",
    "\n",
    "# Define callback to update graph\n",
    "@app.callback(Output(\"graph\", \"figure\"), [Input(\"dropdown\", \"value\")])\n",
    "def update_figure(region):\n",
    "    fig = px.line(df.query(f'Region == \"{region}\"'), x=\"Year\", y=\"Value\")\n",
    "    fig.update_layout(\n",
    "        yaxis_type=\"log\",\n",
    "        xaxis={\"rangeslider\": {\"visible\": True}},\n",
    "        title=\"Oil Production - Barrels\",\n",
    "    )\n",
    "    return fig\n",
    "\n",
    "\n",
    "# Run app and display result inline in the notebook\n",
    "app.run_server(mode=\"inline\", port=8051)"
   ]
  }
 ],
 "metadata": {
  "kernelspec": {
   "display_name": "Python 3 (ipykernel)",
   "language": "python",
   "name": "python3"
  },
  "language_info": {
   "codemirror_mode": {
    "name": "ipython",
    "version": 3
   },
   "file_extension": ".py",
   "mimetype": "text/x-python",
   "name": "python",
   "nbconvert_exporter": "python",
   "pygments_lexer": "ipython3"
  },
  "widgets": {
   "application/vnd.jupyter.widget-state+json": {
    "state": {},
    "version_major": 2,
    "version_minor": 0
   }
  }
 },
 "nbformat": 4,
 "nbformat_minor": 5
}
