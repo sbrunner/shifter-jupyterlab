{
 "cells": [
  {
   "cell_type": "code",
   "execution_count": null,
   "id": "cda6e4cf",
   "metadata": {},
   "outputs": [],
   "source": [
    "# https://www.bfs.admin.ch/bfs/fr/home/statistiques/catalogues-banques-donnees/donnees.assetdetail.18904904.html\n",
    "\n",
    "from shifter_pandas.ofs import OFSDatasource\n",
    "\n",
    "shifter_ds = OFSDatasource(\n",
    "    \"https://www.pxweb.bfs.admin.ch/api/v1/fr/px-x-0204000000_106/px-x-0204000000_106.px\"\n",
    ")\n",
    "\n",
    "df = shifter_ds.datasource(\n",
    "    {\n",
    "        \"query\": [\n",
    "            {\n",
    "                \"code\": \"Wirtschaft und Haushalte\",\n",
    "                \"selection\": {\"filter\": \"item\", \"values\": [\"1\"]},\n",
    "            }\n",
    "        ],\n",
    "        \"response\": {\"format\": \"json-stat\"},\n",
    "    }\n",
    ")\n",
    "df.rename(columns={\"Agent énergétique\": \"AgentEnergetique\"}, inplace=True)\n",
    "df"
   ]
  },
  {
   "cell_type": "code",
   "execution_count": null,
   "id": "76bf906a-3522-443b-bd40-e6e9f6106db9",
   "metadata": {},
   "outputs": [],
   "source": [
    "set(df[\"AgentEnergetique\"])"
   ]
  },
  {
   "cell_type": "code",
   "execution_count": null,
   "id": "f248bb6f-3d6c-4f74-a661-398886f47352",
   "metadata": {},
   "outputs": [],
   "source": [
    "df_filtred = df.query(\n",
    "    'AgentEnergetique in (\"1.1. Produits pétroliers\", \"1.2. Charbon\", \"1.3. Gaz naturel\", '\n",
    "    '\"2. Déchets (hors biomasse)\", \"3.1. Déchets (biomasse)\", \"3.2. Bois et charbon de bois\", '\n",
    "    '\"3.3. Biogaz et biocarburants\", \"3.4. Géothermie, chaleur ambiante et énergie solaire thermique\", '\n",
    "    '\"4. Combustibles nucléaires\", \"5. Electricité\", \"6. Chaleur à distance\")'\n",
    ")\n",
    "df_filtred"
   ]
  },
  {
   "cell_type": "code",
   "execution_count": null,
   "id": "fd44c6d2",
   "metadata": {},
   "outputs": [],
   "source": [
    "import plotly.express as px\n",
    "\n",
    "fig = px.area(df_filtred, x=\"Année\", y=\"values\", color=\"AgentEnergetique\")\n",
    "fig.update_layout(xaxis={\"rangeslider\": {\"visible\": True}})\n",
    "fig.show()"
   ]
  },
  {
   "cell_type": "code",
   "execution_count": null,
   "id": "dfd5f298-353f-46a0-9af5-7ad9a2026376",
   "metadata": {},
   "outputs": [],
   "source": [
    "import plotly\n",
    "\n",
    "plotly.offline.plot(fig, filename=f\"swiss-energy.html\", auto_open=False, include_plotlyjs=\"cdn\")"
   ]
  },
  {
   "cell_type": "code",
   "execution_count": null,
   "id": "485573e6-0b31-4806-88a7-5495549673a6",
   "metadata": {},
   "outputs": [],
   "source": [
    "import plotly.express as px\n",
    "\n",
    "fig = px.area(\n",
    "    df_filtred,\n",
    "    x=\"Année\",\n",
    "    y=\"values\",\n",
    "    color=\"AgentEnergetique\",\n",
    "    groupnorm=\"fraction\",\n",
    ")\n",
    "fig.update_layout(xaxis={\"rangeslider\": {\"visible\": True}})\n",
    "fig.show()"
   ]
  },
  {
   "cell_type": "code",
   "execution_count": null,
   "id": "2b0ff20a-81b6-497c-b4e7-e5e35e2c3898",
   "metadata": {},
   "outputs": [],
   "source": [
    "import plotly\n",
    "\n",
    "plotly.offline.plot(\n",
    "    fig,\n",
    "    filename=f\"swiss-energy-fraction.html\",\n",
    "    auto_open=False,\n",
    "    include_plotlyjs=\"cdn\",\n",
    ")"
   ]
  }
 ],
 "metadata": {
  "kernelspec": {
   "display_name": "Python 3 (ipykernel)",
   "language": "python",
   "name": "python3"
  },
  "language_info": {
   "codemirror_mode": {
    "name": "ipython",
    "version": 3
   },
   "file_extension": ".py",
   "mimetype": "text/x-python",
   "name": "python",
   "nbconvert_exporter": "python",
   "pygments_lexer": "ipython3"
  },
  "widgets": {
   "application/vnd.jupyter.widget-state+json": {
    "state": {},
    "version_major": 2,
    "version_minor": 0
   }
  }
 },
 "nbformat": 4,
 "nbformat_minor": 5
}
