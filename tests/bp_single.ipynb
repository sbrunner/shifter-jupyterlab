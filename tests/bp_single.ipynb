{
 "cells": [
  {
   "cell_type": "code",
   "execution_count": null,
   "id": "5b408e72-cbfa-4e85-b493-b799360c8bbd",
   "metadata": {},
   "outputs": [],
   "source": [
    "import os\n",
    "\n",
    "os.environ[\"WIKIDATA_CACHE_FILE\"] = \"../.wikidata-cache.json\""
   ]
  },
  {
   "cell_type": "code",
   "execution_count": null,
   "id": "7f51d9d1-d7ca-4e7c-8597-a2539a0dc46f",
   "metadata": {},
   "outputs": [],
   "source": [
    "# https://www.bp.com/en/global/corporate/energy-economics/statistical-review-of-world-energy.html\n",
    "\n",
    "from shifter_pandas.bp import UNITS_ENERGY, BPDatasource\n",
    "\n",
    "shifter_ds = BPDatasource(\"../data/bp-stats-review-2021-all-data.xlsx\")"
   ]
  },
  {
   "cell_type": "code",
   "execution_count": null,
   "id": "f185dac9-79f7-49ff-b1c9-20686bac21dc",
   "metadata": {},
   "outputs": [],
   "source": [
    "df = shifter_ds.datasource(regions_filter=[\"Total World\", \"Switzerland\"])\n",
    "df"
   ]
  },
  {
   "cell_type": "code",
   "execution_count": null,
   "id": "651b20ba-b129-48c5-93b9-5767daceedd5",
   "metadata": {},
   "outputs": [],
   "source": [
    "import dash_core_components as dcc\n",
    "import dash_html_components as html\n",
    "import plotly.express as px\n",
    "from dash.dependencies import Input, Output\n",
    "from jupyter_dash import JupyterDash\n",
    "\n",
    "# Build App\n",
    "app = JupyterDash(\"BP statistical review\")\n",
    "app.layout = html.Div(\n",
    "    [\n",
    "        html.H1(\"BP statistical review\"),\n",
    "        html.Label(\n",
    "            [\n",
    "                \"Region\",\n",
    "                dcc.Dropdown(\n",
    "                    id=\"Region-dropdown\",\n",
    "                    clearable=False,\n",
    "                    value=\"plasma\",\n",
    "                    options=[{\"label\": c, \"value\": c} for c in set(df[\"Region\"])],\n",
    "                ),\n",
    "            ]\n",
    "        ),\n",
    "        html.Label(\n",
    "            [\n",
    "                \"Indicator\",\n",
    "                dcc.Dropdown(\n",
    "                    id=\"Indicator-dropdown\",\n",
    "                    clearable=False,\n",
    "                    value=\"plasma\",\n",
    "                    options=[{\"label\": c, \"value\": c} for c in set(df[\"Type\"])],\n",
    "                ),\n",
    "            ]\n",
    "        ),\n",
    "        dcc.Graph(id=\"graph\"),\n",
    "    ]\n",
    ")\n",
    "\n",
    "\n",
    "# Define callback to update graph\n",
    "@app.callback(\n",
    "    Output(\"graph\", \"figure\"),\n",
    "    [Input(\"Region-dropdown\", \"value\"), Input(\"Indicator-dropdown\", \"value\")],\n",
    ")\n",
    "def update_figure(region, indicator):\n",
    "    fig = px.line(df.query(f'Region == \"{region}\" and Type == \"{indicator}\"'), x=\"Year\", y=\"Value\")\n",
    "    fig.update_layout(\n",
    "        yaxis_type=\"log\",\n",
    "        xaxis={\n",
    "            \"rangeslider\": {\"visible\": True},\n",
    "        },\n",
    "    )\n",
    "    return fig\n",
    "\n",
    "\n",
    "# Run app and display result inline in the notebook\n",
    "app.run_server(mode=\"inline\", port=8070)"
   ]
  }
 ],
 "metadata": {
  "kernelspec": {
   "display_name": "Python 3",
   "language": "python",
   "name": "python3"
  },
  "language_info": {
   "codemirror_mode": {
    "name": "ipython",
    "version": 3
   },
   "file_extension": ".py",
   "mimetype": "text/x-python",
   "name": "python",
   "nbconvert_exporter": "python",
   "pygments_lexer": "ipython3"
  },
  "widgets": {
   "application/vnd.jupyter.widget-state+json": {
    "state": {},
    "version_major": 2,
    "version_minor": 0
   }
  }
 },
 "nbformat": 4,
 "nbformat_minor": 5
}
