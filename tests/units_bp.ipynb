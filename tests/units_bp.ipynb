{
 "cells": [
  {
   "cell_type": "code",
   "execution_count": null,
   "id": "139bf21c-bd7d-4b21-9fcd-30d7e6c43191",
   "metadata": {},
   "outputs": [],
   "source": [
    "import os\n",
    "\n",
    "os.environ[\"WIKIDATA_CACHE_FILE\"] = \"../.wikidata-cache.json\""
   ]
  },
  {
   "cell_type": "code",
   "execution_count": null,
   "id": "24e02f29-3ebc-40cb-a0f5-f0b1d6b46e30",
   "metadata": {},
   "outputs": [],
   "source": [
    "# https://www.bp.com/en/global/corporate/energy-economics/statistical-review-of-world-energy.html\n",
    "\n",
    "from shifter_pandas.bp import UNITS_ENERGY, BPDatasource\n",
    "\n",
    "shifter_ds = BPDatasource(\"../data/bp-stats-review-2021-all-data.xlsx\")"
   ]
  },
  {
   "cell_type": "code",
   "execution_count": null,
   "id": "356666d8-a5f7-4873-bad1-ad53b8ea7b6e",
   "metadata": {},
   "outputs": [],
   "source": [
    "for type_ in shifter_ds.metadata():\n",
    "    if type_[\"supported\"]:\n",
    "        print(f\"{type_['label']} [{type_['unit']['iso']}]\")"
   ]
  },
  {
   "cell_type": "code",
   "execution_count": null,
   "id": "2911404d-6a65-40f0-9c50-754b73bb7f13",
   "metadata": {},
   "outputs": [],
   "source": [
    "shifter_ds.oil_units_conversion"
   ]
  },
  {
   "cell_type": "code",
   "execution_count": null,
   "id": "68a3cc21-89d6-45c1-b938-81c54c4bae5d",
   "metadata": {},
   "outputs": [],
   "source": [
    "shifter_ds.oil_products_units_conversion"
   ]
  },
  {
   "cell_type": "code",
   "execution_count": null,
   "id": "e9ace1a0-c303-41c7-bb73-81f4f896d3e0",
   "metadata": {},
   "outputs": [],
   "source": [
    "shifter_ds.gaz_units_conversion"
   ]
  },
  {
   "cell_type": "code",
   "execution_count": null,
   "id": "4dfcda60-2084-4d63-b004-91bf9c853f9b",
   "metadata": {},
   "outputs": [],
   "source": [
    "r = {}\n",
    "for e in shifter_ds.metadata():\n",
    "    if type_[\"supported\"]:\n",
    "        r[e[\"unit\"][\"original\"]] = (\n",
    "            f\"[{e['unit']['iso']}]{e['unit']['iso_postfix']} => {e['unit']['iso_factor']}\"\n",
    "        )\n",
    "r"
   ]
  },
  {
   "cell_type": "code",
   "execution_count": null,
   "id": "a0744a42-2ec7-4139-90d3-e14751f39d8e",
   "metadata": {},
   "outputs": [],
   "source": [
    "{e[\"unit\"][\"iso\"] for e in shifter_ds.metadata() if e[\"supported\"]}"
   ]
  },
  {
   "cell_type": "code",
   "execution_count": null,
   "id": "2044beea-caf7-468b-aad7-157edfbf1172",
   "metadata": {},
   "outputs": [],
   "source": [
    "shifter_ds.to_iso_unit"
   ]
  },
  {
   "cell_type": "code",
   "execution_count": null,
   "id": "bc42d864-3b9e-4d72-bea8-29aab1fce733",
   "metadata": {},
   "outputs": [],
   "source": [
    "df = shifter_ds.datasource_non_fossil_electricity_to_primary_energy_factor(1995)\n",
    "df"
   ]
  },
  {
   "cell_type": "code",
   "execution_count": null,
   "id": "356f36dd-a466-433a-a4fe-0396bdfcdb9e",
   "metadata": {},
   "outputs": [],
   "source": [
    "import plotly.express as px\n",
    "\n",
    "fig = px.line(df, x=\"Year\", y=\"Factor\")\n",
    "fig.show()"
   ]
  },
  {
   "cell_type": "code",
   "execution_count": null,
   "id": "0c026ea0-67f4-468e-90e9-9b7c9c361739",
   "metadata": {},
   "outputs": [],
   "source": [
    "df = shifter_ds.datasource(\n",
    "    regions_filter=[\"Total World\"],\n",
    "    types_filter=[\"Oil Production - Barrels\", \"Oil Production - Tonnes\", \"Oil Production - Crude Conds\"],\n",
    ")\n",
    "for col in [\"TypeUnit\", \"Region\"]:\n",
    "    if col in df:\n",
    "        del df[col]\n",
    "df"
   ]
  },
  {
   "cell_type": "code",
   "execution_count": null,
   "id": "d5178e1a-149a-431d-8411-9b840fc0dd84",
   "metadata": {},
   "outputs": [],
   "source": [
    "df_vol = df.query('Type == \"Oil Production - Barrels\"')\n",
    "df_vol.rename(columns={\"Value\": \"OilProductionVolume\"}, inplace=True)\n",
    "del df_vol[\"Type\"]\n",
    "del df_vol[\"Unit\"]\n",
    "df_mass = df.query('Type == \"Oil Production - Tonnes\"')\n",
    "df_mass.rename(columns={\"Value\": \"OilProductionMass\"}, inplace=True)\n",
    "del df_mass[\"Type\"]\n",
    "del df_mass[\"Unit\"]\n",
    "df_energy = df.query('Type == \"Oil Production - Crude Conds\"')\n",
    "df_energy.rename(columns={\"Value\": \"OilProductionEnergy\"}, inplace=True)\n",
    "del df_energy[\"Type\"]\n",
    "del df_energy[\"Unit\"]\n",
    "df_energy"
   ]
  },
  {
   "cell_type": "code",
   "execution_count": null,
   "id": "70daa883-31e7-444f-8c96-616dcef9e5d1",
   "metadata": {},
   "outputs": [],
   "source": [
    "import pandas as pd\n",
    "\n",
    "df_merged = pd.merge(\n",
    "    df_vol,\n",
    "    df_mass,\n",
    "    how=\"inner\",\n",
    "    on=[\"Year\"],\n",
    ")\n",
    "df_merged = pd.merge(\n",
    "    df_merged,\n",
    "    df_energy,\n",
    "    how=\"inner\",\n",
    "    on=[\"Year\"],\n",
    ")\n",
    "df_merged"
   ]
  },
  {
   "cell_type": "code",
   "execution_count": null,
   "id": "3f1c4992-55ca-4b84-aa00-55492ad08fd6",
   "metadata": {},
   "outputs": [],
   "source": [
    "df_final = df_merged.assign(\n",
    "    OilProductionEnergyVolume=df_merged.OilProductionEnergy / df_merged.OilProductionVolume\n",
    ")\n",
    "df_final = df_final.assign(\n",
    "    OilProductionEnergyMass=df_merged.OilProductionEnergy / df_merged.OilProductionMass\n",
    ")\n",
    "df_final = df_final.assign(\n",
    "    OilProductionMassVolume=df_merged.OilProductionMass / df_merged.OilProductionVolume\n",
    ")\n",
    "df_final"
   ]
  },
  {
   "cell_type": "code",
   "execution_count": null,
   "id": "481d5cec-0766-4fa6-a146-9b580e275720",
   "metadata": {},
   "outputs": [],
   "source": [
    "import plotly.express as px\n",
    "\n",
    "fig = px.line(df_final, x=\"Year\", y=\"OilProductionEnergyVolume\")\n",
    "fig.show()"
   ]
  },
  {
   "cell_type": "code",
   "execution_count": null,
   "id": "20252ed8-a386-4867-af19-be367196873c",
   "metadata": {},
   "outputs": [],
   "source": [
    "import plotly.express as px\n",
    "\n",
    "fig = px.line(df_final, x=\"Year\", y=\"OilProductionEnergyMass\")\n",
    "fig.show()"
   ]
  },
  {
   "cell_type": "code",
   "execution_count": null,
   "id": "45f87850-6781-4911-bfc7-19fb4293e482",
   "metadata": {},
   "outputs": [],
   "source": [
    "import plotly.express as px\n",
    "\n",
    "fig = px.line(df_final, x=\"Year\", y=\"OilProductionMassVolume\")\n",
    "fig.show()"
   ]
  }
 ],
 "metadata": {
  "kernelspec": {
   "display_name": "Python 3 (ipykernel)",
   "language": "python",
   "name": "python3"
  },
  "language_info": {
   "codemirror_mode": {
    "name": "ipython",
    "version": 3
   },
   "file_extension": ".py",
   "mimetype": "text/x-python",
   "name": "python",
   "nbconvert_exporter": "python",
   "pygments_lexer": "ipython3"
  },
  "widgets": {
   "application/vnd.jupyter.widget-state+json": {
    "state": {},
    "version_major": 2,
    "version_minor": 0
   }
  }
 },
 "nbformat": 4,
 "nbformat_minor": 5
}
