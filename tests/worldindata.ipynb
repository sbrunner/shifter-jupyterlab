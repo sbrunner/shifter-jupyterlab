{
 "cells": [
  {
   "cell_type": "code",
   "execution_count": null,
   "id": "4c582d65-5725-4f64-8ce9-f491c6314f5d",
   "metadata": {},
   "outputs": [],
   "source": [
    "import os\n",
    "\n",
    "os.environ[\"WIKIDATA_CACHE_FILE\"] = \"../.wikidata-cache.json\""
   ]
  },
  {
   "cell_type": "code",
   "execution_count": null,
   "id": "9dfb4865-b136-4af8-9874-97e5ae1b3e1f",
   "metadata": {},
   "outputs": [],
   "source": [
    "# Import packages\n",
    "import pandas as pd\n",
    "\n",
    "# https://github.com/owid/covid-19-data/tree/master/public/data\n",
    "df = pd.read_csv(\"../data/population-since-1800.csv\")\n",
    "df"
   ]
  },
  {
   "cell_type": "code",
   "execution_count": null,
   "id": "2002d1ae",
   "metadata": {},
   "outputs": [],
   "source": [
    "{e for e in set(df.Entity) if e.startswith(\"R\")}"
   ]
  },
  {
   "cell_type": "code",
   "execution_count": null,
   "id": "4bbfd376",
   "metadata": {},
   "outputs": [],
   "source": [
    "import plotly.express as px\n",
    "\n",
    "fig = px.line(\n",
    "    df.query(\"Entity in ['Russia', 'World']\"),\n",
    "    x=\"Year\",\n",
    "    y=\"Population (historical estimates)\",\n",
    "    color=\"Entity\",\n",
    ")\n",
    "fig.update_layout(yaxis_type=\"log\")\n",
    "fig.show()"
   ]
  },
  {
   "cell_type": "code",
   "execution_count": null,
   "id": "532f4b7c-799c-4911-af85-3fedd9f4c15a",
   "metadata": {},
   "outputs": [],
   "source": [
    "from shifter_pandas.wikidata_ import WikidataDatasource\n",
    "\n",
    "wdds = WikidataDatasource()\n",
    "df2 = wdds.datasource_code(wikidata_id=True, wikidata_name=True, wikidata_type=True)\n",
    "df2"
   ]
  },
  {
   "cell_type": "code",
   "execution_count": null,
   "id": "f39ae556-a36b-4215-b348-af97286933d1",
   "metadata": {},
   "outputs": [],
   "source": [
    "import pandas as pd\n",
    "\n",
    "df3 = pd.merge(df, df2, how=\"inner\", on=\"Code\")\n",
    "df3"
   ]
  },
  {
   "cell_type": "code",
   "execution_count": null,
   "id": "c1b48ad8-3713-431c-bf76-c233442b1582",
   "metadata": {},
   "outputs": [],
   "source": [
    "import plotly.express as px\n",
    "\n",
    "print(set(df[\"Entity\"]))\n",
    "fig = px.line(\n",
    "    df3,\n",
    "    x=\"Year\",\n",
    "    y=\"Population (historical estimates)\",\n",
    "    color=\"WikidataName\",\n",
    ")\n",
    "# fig.update_layout(yaxis_type=\"log\")\n",
    "fig.show()"
   ]
  }
 ],
 "metadata": {
  "kernelspec": {
   "display_name": "Python 3",
   "language": "python",
   "name": "python3"
  },
  "language_info": {
   "codemirror_mode": {
    "name": "ipython",
    "version": 3
   },
   "file_extension": ".py",
   "mimetype": "text/x-python",
   "name": "python",
   "nbconvert_exporter": "python",
   "pygments_lexer": "ipython3"
  },
  "widgets": {
   "application/vnd.jupyter.widget-state+json": {
    "state": {},
    "version_major": 2,
    "version_minor": 0
   }
  }
 },
 "nbformat": 4,
 "nbformat_minor": 5
}
